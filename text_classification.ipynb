{
 "cells": [
  {
   "cell_type": "code",
   "execution_count": 1,
   "metadata": {},
   "outputs": [
    {
     "name": "stdout",
     "output_type": "stream",
     "text": [
      "1.12.0\n"
     ]
    }
   ],
   "source": [
    "from __future__ import absolute_import, division, print_function\n",
    "import tensorflow as tf\n",
    "from tensorflow import keras \n",
    "import numpy as np\n",
    "print(tf.__version__)"
   ]
  },
  {
   "cell_type": "code",
   "execution_count": 9,
   "metadata": {
    "scrolled": false
   },
   "outputs": [
    {
     "name": "stdout",
     "output_type": "stream",
     "text": [
      "Downloading data from https://storage.googleapis.com/tensorflow/tf-keras-datasets/imdb.npz\n",
      "17465344/17464789 [==============================] - 14s 1us/step\n"
     ]
    }
   ],
   "source": [
    "imdb = keras.datasets.imdb\n",
    "(train_data, train_labels), (test_data, test_labels) = imdb.load_data(num_words=10000)"
   ]
  },
  {
   "cell_type": "code",
   "execution_count": 10,
   "metadata": {},
   "outputs": [
    {
     "name": "stdout",
     "output_type": "stream",
     "text": [
      "Training entries: 25000, labels: 25000\n"
     ]
    }
   ],
   "source": [
    "print(\"Training entries: {}, labels: {}\".format(len(train_data), len(train_labels)))"
   ]
  },
  {
   "cell_type": "code",
   "execution_count": 11,
   "metadata": {},
   "outputs": [
    {
     "name": "stdout",
     "output_type": "stream",
     "text": [
      "[1, 14, 22, 16, 43, 530, 973, 1622, 1385, 65, 458, 4468, 66, 3941, 4, 173, 36, 256, 5, 25, 100, 43, 838, 112, 50, 670, 2, 9, 35, 480, 284, 5, 150, 4, 172, 112, 167, 2, 336, 385, 39, 4, 172, 4536, 1111, 17, 546, 38, 13, 447, 4, 192, 50, 16, 6, 147, 2025, 19, 14, 22, 4, 1920, 4613, 469, 4, 22, 71, 87, 12, 16, 43, 530, 38, 76, 15, 13, 1247, 4, 22, 17, 515, 17, 12, 16, 626, 18, 2, 5, 62, 386, 12, 8, 316, 8, 106, 5, 4, 2223, 5244, 16, 480, 66, 3785, 33, 4, 130, 12, 16, 38, 619, 5, 25, 124, 51, 36, 135, 48, 25, 1415, 33, 6, 22, 12, 215, 28, 77, 52, 5, 14, 407, 16, 82, 2, 8, 4, 107, 117, 5952, 15, 256, 4, 2, 7, 3766, 5, 723, 36, 71, 43, 530, 476, 26, 400, 317, 46, 7, 4, 2, 1029, 13, 104, 88, 4, 381, 15, 297, 98, 32, 2071, 56, 26, 141, 6, 194, 7486, 18, 4, 226, 22, 21, 134, 476, 26, 480, 5, 144, 30, 5535, 18, 51, 36, 28, 224, 92, 25, 104, 4, 226, 65, 16, 38, 1334, 88, 12, 16, 283, 5, 16, 4472, 113, 103, 32, 15, 16, 5345, 19, 178, 32]\n"
     ]
    }
   ],
   "source": [
    "print(train_data[0])"
   ]
  },
  {
   "cell_type": "code",
   "execution_count": 12,
   "metadata": {},
   "outputs": [
    {
     "data": {
      "text/plain": [
       "(218, 189)"
      ]
     },
     "execution_count": 12,
     "metadata": {},
     "output_type": "execute_result"
    }
   ],
   "source": [
    "len(train_data[0]), len(train_data[1])"
   ]
  },
  {
   "cell_type": "code",
   "execution_count": 13,
   "metadata": {},
   "outputs": [
    {
     "name": "stdout",
     "output_type": "stream",
     "text": [
      "Downloading data from https://storage.googleapis.com/tensorflow/tf-keras-datasets/imdb_word_index.json\n",
      "1646592/1641221 [==============================] - 2s 1us/step\n"
     ]
    }
   ],
   "source": [
    "word_index = imdb.get_word_index()\n",
    "word_index = {k: (v+3) for k, v in word_index.items()}\n",
    "word_index[\"<PAD>\"] = 0\n",
    "word_index[\"<START>\"] = 1\n",
    "word_index[\"<UNK>\"] = 2\n",
    "word_index[\"<UNUSED>\"] = 3\n",
    "reverse_word_index = dict([(value, key) for (key, value) in word_index.items()])\n",
    "\n",
    "def decode_review(text):\n",
    "    return ' '.join([reverse_word_index.get(i, '?') for i in text])"
   ]
  },
  {
   "cell_type": "code",
   "execution_count": 14,
   "metadata": {},
   "outputs": [
    {
     "data": {
      "text/plain": [
       "\"<START> this film was just brilliant casting location scenery story direction everyone's really suited the part they played and you could just imagine being there robert <UNK> is an amazing actor and now the same being director <UNK> father came from the same scottish island as myself so i loved the fact there was a real connection with this film the witty remarks throughout the film were great it was just brilliant so much that i bought the film as soon as it was released for <UNK> and would recommend it to everyone to watch and the fly fishing was amazing really cried at the end it was so sad and you know what they say if you cry at a film it must have been good and this definitely was also <UNK> to the two little boy's that played the <UNK> of norman and paul they were just brilliant children are often left out of the <UNK> list i think because the stars that play them all grown up are such a big profile for the whole film but these children are amazing and should be praised for what they have done don't you think the whole story was so lovely because it was true and was someone's life after all that was shared with us all\""
      ]
     },
     "execution_count": 14,
     "metadata": {},
     "output_type": "execute_result"
    }
   ],
   "source": [
    "decode_review(train_data[0])"
   ]
  },
  {
   "cell_type": "code",
   "execution_count": 15,
   "metadata": {},
   "outputs": [],
   "source": [
    "train_data = keras.preprocessing.sequence.pad_sequences(train_data, value=word_index[\"<PAD>\"], padding='post', maxlen=256)\n",
    "test_data = keras.preprocessing.sequence.pad_sequences(test_data, value=word_index[\"<PAD>\"], padding='post', maxlen=256)"
   ]
  },
  {
   "cell_type": "code",
   "execution_count": 16,
   "metadata": {},
   "outputs": [
    {
     "data": {
      "text/plain": [
       "(256, 256)"
      ]
     },
     "execution_count": 16,
     "metadata": {},
     "output_type": "execute_result"
    }
   ],
   "source": [
    "len(train_data[0]), len(train_data[1])"
   ]
  },
  {
   "cell_type": "code",
   "execution_count": 17,
   "metadata": {},
   "outputs": [
    {
     "name": "stdout",
     "output_type": "stream",
     "text": [
      "[   1   14   22   16   43  530  973 1622 1385   65  458 4468   66 3941\n",
      "    4  173   36  256    5   25  100   43  838  112   50  670    2    9\n",
      "   35  480  284    5  150    4  172  112  167    2  336  385   39    4\n",
      "  172 4536 1111   17  546   38   13  447    4  192   50   16    6  147\n",
      " 2025   19   14   22    4 1920 4613  469    4   22   71   87   12   16\n",
      "   43  530   38   76   15   13 1247    4   22   17  515   17   12   16\n",
      "  626   18    2    5   62  386   12    8  316    8  106    5    4 2223\n",
      " 5244   16  480   66 3785   33    4  130   12   16   38  619    5   25\n",
      "  124   51   36  135   48   25 1415   33    6   22   12  215   28   77\n",
      "   52    5   14  407   16   82    2    8    4  107  117 5952   15  256\n",
      "    4    2    7 3766    5  723   36   71   43  530  476   26  400  317\n",
      "   46    7    4    2 1029   13  104   88    4  381   15  297   98   32\n",
      " 2071   56   26  141    6  194 7486   18    4  226   22   21  134  476\n",
      "   26  480    5  144   30 5535   18   51   36   28  224   92   25  104\n",
      "    4  226   65   16   38 1334   88   12   16  283    5   16 4472  113\n",
      "  103   32   15   16 5345   19  178   32    0    0    0    0    0    0\n",
      "    0    0    0    0    0    0    0    0    0    0    0    0    0    0\n",
      "    0    0    0    0    0    0    0    0    0    0    0    0    0    0\n",
      "    0    0    0    0]\n"
     ]
    }
   ],
   "source": [
    "print(train_data[0])"
   ]
  },
  {
   "cell_type": "code",
   "execution_count": 18,
   "metadata": {},
   "outputs": [
    {
     "name": "stdout",
     "output_type": "stream",
     "text": [
      "_________________________________________________________________\n",
      "Layer (type)                 Output Shape              Param #   \n",
      "=================================================================\n",
      "embedding (Embedding)        (None, None, 16)          160000    \n",
      "_________________________________________________________________\n",
      "global_average_pooling1d (Gl (None, 16)                0         \n",
      "_________________________________________________________________\n",
      "dense (Dense)                (None, 16)                272       \n",
      "_________________________________________________________________\n",
      "dense_1 (Dense)              (None, 1)                 17        \n",
      "=================================================================\n",
      "Total params: 160,289\n",
      "Trainable params: 160,289\n",
      "Non-trainable params: 0\n",
      "_________________________________________________________________\n"
     ]
    }
   ],
   "source": [
    "vocab_size = 10000\n",
    "model = keras.Sequential()\n",
    "model.add(keras.layers.Embedding(vocab_size, 16))\n",
    "model.add(keras.layers.GlobalAveragePooling1D())\n",
    "model.add(keras.layers.Dense(16, activation=tf.nn.relu))\n",
    "model.add(keras.layers.Dense(1, activation=tf.nn.sigmoid))\n",
    "\n",
    "model.summary()"
   ]
  },
  {
   "cell_type": "code",
   "execution_count": 19,
   "metadata": {},
   "outputs": [],
   "source": [
    "model.compile(optimizer='adam', loss='binary_crossentropy', metrics=['acc'])"
   ]
  },
  {
   "cell_type": "code",
   "execution_count": 20,
   "metadata": {},
   "outputs": [],
   "source": [
    "x_val = train_data[:10000]\n",
    "partial_x_train = train_data[10000:]\n",
    "y_val = train_labels[:10000]\n",
    "partial_y_train = train_labels[10000:]"
   ]
  },
  {
   "cell_type": "code",
   "execution_count": 21,
   "metadata": {},
   "outputs": [
    {
     "name": "stderr",
     "output_type": "stream",
     "text": [
      "/home/cinnnamon-bruno/anaconda3/lib/python3.6/site-packages/tensorflow/python/ops/gradients_impl.py:112: UserWarning: Converting sparse IndexedSlices to a dense Tensor of unknown shape. This may consume a large amount of memory.\n",
      "  \"Converting sparse IndexedSlices to a dense Tensor of unknown shape. \"\n"
     ]
    },
    {
     "name": "stdout",
     "output_type": "stream",
     "text": [
      "Train on 15000 samples, validate on 10000 samples\n",
      "Epoch 1/40\n",
      "15000/15000 [==============================] - 12s 799us/step - loss: 0.6922 - acc: 0.5648 - val_loss: 0.6907 - val_acc: 0.6130\n",
      "Epoch 2/40\n",
      "15000/15000 [==============================] - 0s 8us/step - loss: 0.6872 - acc: 0.6931 - val_loss: 0.6834 - val_acc: 0.7445\n",
      "Epoch 3/40\n",
      "15000/15000 [==============================] - 0s 11us/step - loss: 0.6759 - acc: 0.7592 - val_loss: 0.6690 - val_acc: 0.7550\n",
      "Epoch 4/40\n",
      "15000/15000 [==============================] - 0s 11us/step - loss: 0.6555 - acc: 0.7658 - val_loss: 0.6461 - val_acc: 0.7632\n",
      "Epoch 5/40\n",
      "15000/15000 [==============================] - 0s 11us/step - loss: 0.6251 - acc: 0.7906 - val_loss: 0.6133 - val_acc: 0.7824\n",
      "Epoch 6/40\n",
      "15000/15000 [==============================] - 0s 11us/step - loss: 0.5863 - acc: 0.8077 - val_loss: 0.5753 - val_acc: 0.7955\n",
      "Epoch 7/40\n",
      "15000/15000 [==============================] - 0s 11us/step - loss: 0.5425 - acc: 0.8252 - val_loss: 0.5347 - val_acc: 0.8151\n",
      "Epoch 8/40\n",
      "15000/15000 [==============================] - 0s 11us/step - loss: 0.4976 - acc: 0.8403 - val_loss: 0.4949 - val_acc: 0.8271\n",
      "Epoch 9/40\n",
      "15000/15000 [==============================] - 0s 11us/step - loss: 0.4555 - acc: 0.8523 - val_loss: 0.4588 - val_acc: 0.8378\n",
      "Epoch 10/40\n",
      "15000/15000 [==============================] - 0s 11us/step - loss: 0.4171 - acc: 0.8655 - val_loss: 0.4276 - val_acc: 0.8458\n",
      "Epoch 11/40\n",
      "15000/15000 [==============================] - 0s 10us/step - loss: 0.3843 - acc: 0.8750 - val_loss: 0.4036 - val_acc: 0.8513\n",
      "Epoch 12/40\n",
      "15000/15000 [==============================] - 0s 8us/step - loss: 0.3563 - acc: 0.8824 - val_loss: 0.3802 - val_acc: 0.8586\n",
      "Epoch 13/40\n",
      "15000/15000 [==============================] - 0s 8us/step - loss: 0.3313 - acc: 0.8892 - val_loss: 0.3633 - val_acc: 0.8629\n",
      "Epoch 14/40\n",
      "15000/15000 [==============================] - 0s 7us/step - loss: 0.3105 - acc: 0.8957 - val_loss: 0.3483 - val_acc: 0.8681\n",
      "Epoch 15/40\n",
      "15000/15000 [==============================] - 0s 8us/step - loss: 0.2924 - acc: 0.9003 - val_loss: 0.3365 - val_acc: 0.8713\n",
      "Epoch 16/40\n",
      "15000/15000 [==============================] - 0s 7us/step - loss: 0.2768 - acc: 0.9026 - val_loss: 0.3268 - val_acc: 0.8745\n",
      "Epoch 17/40\n",
      "15000/15000 [==============================] - 0s 8us/step - loss: 0.2621 - acc: 0.9112 - val_loss: 0.3186 - val_acc: 0.8749\n",
      "Epoch 18/40\n",
      "15000/15000 [==============================] - 0s 7us/step - loss: 0.2492 - acc: 0.9148 - val_loss: 0.3117 - val_acc: 0.8791\n",
      "Epoch 19/40\n",
      "15000/15000 [==============================] - 0s 7us/step - loss: 0.2373 - acc: 0.9185 - val_loss: 0.3059 - val_acc: 0.8794\n",
      "Epoch 20/40\n",
      "15000/15000 [==============================] - 0s 7us/step - loss: 0.2269 - acc: 0.9211 - val_loss: 0.3014 - val_acc: 0.8808\n",
      "Epoch 21/40\n",
      "15000/15000 [==============================] - 0s 7us/step - loss: 0.2167 - acc: 0.9265 - val_loss: 0.2972 - val_acc: 0.8810\n",
      "Epoch 22/40\n",
      "15000/15000 [==============================] - 0s 8us/step - loss: 0.2074 - acc: 0.9293 - val_loss: 0.2944 - val_acc: 0.8824\n",
      "Epoch 23/40\n",
      "15000/15000 [==============================] - 0s 8us/step - loss: 0.1989 - acc: 0.9320 - val_loss: 0.2919 - val_acc: 0.8825\n",
      "Epoch 24/40\n",
      "15000/15000 [==============================] - 0s 8us/step - loss: 0.1904 - acc: 0.9363 - val_loss: 0.2892 - val_acc: 0.8848\n",
      "Epoch 25/40\n",
      "15000/15000 [==============================] - 0s 7us/step - loss: 0.1829 - acc: 0.9397 - val_loss: 0.2875 - val_acc: 0.8857\n",
      "Epoch 26/40\n",
      "15000/15000 [==============================] - 0s 8us/step - loss: 0.1755 - acc: 0.9427 - val_loss: 0.2866 - val_acc: 0.8843\n",
      "Epoch 27/40\n",
      "15000/15000 [==============================] - 0s 8us/step - loss: 0.1693 - acc: 0.9464 - val_loss: 0.2860 - val_acc: 0.8850\n",
      "Epoch 28/40\n",
      "15000/15000 [==============================] - 0s 8us/step - loss: 0.1627 - acc: 0.9483 - val_loss: 0.2850 - val_acc: 0.8851\n",
      "Epoch 29/40\n",
      "15000/15000 [==============================] - 0s 8us/step - loss: 0.1566 - acc: 0.9505 - val_loss: 0.2848 - val_acc: 0.8858\n",
      "Epoch 30/40\n",
      "15000/15000 [==============================] - 0s 7us/step - loss: 0.1513 - acc: 0.9525 - val_loss: 0.2852 - val_acc: 0.8862\n",
      "Epoch 31/40\n",
      "15000/15000 [==============================] - 0s 8us/step - loss: 0.1451 - acc: 0.9558 - val_loss: 0.2858 - val_acc: 0.8860\n",
      "Epoch 32/40\n",
      "15000/15000 [==============================] - 0s 8us/step - loss: 0.1402 - acc: 0.9581 - val_loss: 0.2867 - val_acc: 0.8862\n",
      "Epoch 33/40\n",
      "15000/15000 [==============================] - 0s 8us/step - loss: 0.1347 - acc: 0.9601 - val_loss: 0.2878 - val_acc: 0.8863\n",
      "Epoch 34/40\n",
      "15000/15000 [==============================] - 0s 8us/step - loss: 0.1300 - acc: 0.9625 - val_loss: 0.2889 - val_acc: 0.8858\n",
      "Epoch 35/40\n",
      "15000/15000 [==============================] - 0s 8us/step - loss: 0.1257 - acc: 0.9635 - val_loss: 0.2903 - val_acc: 0.8858\n",
      "Epoch 36/40\n",
      "15000/15000 [==============================] - 0s 9us/step - loss: 0.1207 - acc: 0.9666 - val_loss: 0.2923 - val_acc: 0.8854\n",
      "Epoch 37/40\n",
      "15000/15000 [==============================] - 0s 9us/step - loss: 0.1166 - acc: 0.9673 - val_loss: 0.2946 - val_acc: 0.8854\n",
      "Epoch 38/40\n",
      "15000/15000 [==============================] - 0s 9us/step - loss: 0.1130 - acc: 0.9683 - val_loss: 0.2959 - val_acc: 0.8843\n",
      "Epoch 39/40\n",
      "15000/15000 [==============================] - 0s 9us/step - loss: 0.1084 - acc: 0.9699 - val_loss: 0.2981 - val_acc: 0.8844\n",
      "Epoch 40/40\n",
      "15000/15000 [==============================] - 0s 10us/step - loss: 0.1046 - acc: 0.9715 - val_loss: 0.3004 - val_acc: 0.8850\n"
     ]
    }
   ],
   "source": [
    "history = model.fit(partial_x_train, partial_y_train, epochs=40, batch_size=512, validation_data=(x_val, y_val), verbose=1)"
   ]
  },
  {
   "cell_type": "code",
   "execution_count": 22,
   "metadata": {},
   "outputs": [
    {
     "name": "stdout",
     "output_type": "stream",
     "text": [
      "25000/25000 [==============================] - 0s 18us/step\n",
      "[0.31949650089263915, 0.87324]\n"
     ]
    }
   ],
   "source": [
    "results = model.evaluate(test_data, test_labels)\n",
    "print(results)"
   ]
  },
  {
   "cell_type": "code",
   "execution_count": 23,
   "metadata": {},
   "outputs": [
    {
     "data": {
      "text/plain": [
       "dict_keys(['val_loss', 'val_acc', 'loss', 'acc'])"
      ]
     },
     "execution_count": 23,
     "metadata": {},
     "output_type": "execute_result"
    }
   ],
   "source": [
    "history_dict = history.history\n",
    "history_dict.keys()"
   ]
  },
  {
   "cell_type": "code",
   "execution_count": 24,
   "metadata": {},
   "outputs": [
    {
     "data": {
      "text/plain": [
       "<Figure size 640x480 with 1 Axes>"
      ]
     },
     "metadata": {},
     "output_type": "display_data"
    }
   ],
   "source": [
    "import matplotlib.pyplot as plt\n",
    "acc = history_dict['acc']\n",
    "val_acc = history_dict['val_acc']\n",
    "loss = history_dict['loss']\n",
    "val_loss = history_dict['val_loss']\n",
    "\n",
    "epochs = range(1, len(acc) + 1)\n",
    "\n",
    "plt.plot(epochs, loss, 'bo', label=\"Training loss\")\n",
    "plt.plot(epochs, val_loss, 'b', label='Validation loss')\n",
    "plt.title('Traing and validation loss')\n",
    "plt.xlabel('Epochs')\n",
    "plt.ylabel('Loss')\n",
    "plt.legend()\n",
    "plt.show()"
   ]
  },
  {
   "cell_type": "code",
   "execution_count": 25,
   "metadata": {},
   "outputs": [
    {
     "data": {
      "image/png": "[encoded data removed]",
      "text/plain": [
       "<Figure size 432x288 with 1 Axes>"
      ]
     },
     "metadata": {
      "needs_background": "light"
     },
     "output_type": "display_data"
    }
   ],
   "source": [
    "plt.clf()\n",
    "plt.plot(epochs, acc, 'bo', label='Training acc')\n",
    "plt.plot(epochs, val_acc, 'b', label='Validation acc')\n",
    "plt.title('Training and validation accuracy')\n",
    "plt.xlabel('Epochs')\n",
    "plt.ylabel('Accuracy')\n",
    "plt.legend()\n",
    "plt.show()"
   ]
  },
  {
   "cell_type": "code",
   "execution_count": null,
   "metadata": {},
   "outputs": [],
   "source": []
  }
 ],
 "metadata": {
  "kernelspec": {
   "display_name": "Python 3",
   "language": "python",
   "name": "python3"
  },
  "language_info": {
   "codemirror_mode": {
    "name": "ipython",
    "version": 3
   },
   "file_extension": ".py",
   "mimetype": "text/x-python",
   "name": "python",
   "nbconvert_exporter": "python",
   "pygments_lexer": "ipython3",
   "version": "3.6.8"
  }
 },
 "nbformat": 4,
 "nbformat_minor": 2
}
